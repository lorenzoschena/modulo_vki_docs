{
 "cells": [
  {
   "cell_type": "markdown",
   "metadata": {},
   "source": [
    "![vki_logo](https://www.skywin.be/sites/default/files/logo-membres/vki_logo_blue_rectangular.jpg)\n",
    "# MODULO: A package for Multiscale Proper Orthogonal Decomposition\n",
    "### A Python tutorial by L. Schena and M. Mendez, von Karman Institute for Fluid Dynamics\n",
    "This tutorial shows how to install the new Python package `modulo_vki` and run it. \n",
    "The theoretical background on modal analysis and a complete set of tutorials on the graphical user interface of MODULO can be found in MODULO's YouTube channel: [MODULO_YT_Channel](https://www.youtube.com/channel/UC-RoU7LisZSLy6o-EO4BUDA)."
   ]
  },
  {
   "cell_type": "markdown",
   "metadata": {
    "pycharm": {
     "name": "#%% md\n"
    }
   },
   "source": [
    "### In this tutorial: Time-Resolved PIV of an impinging jet flow\n",
    "\n",
    "This Jupyter Notebook solves the exercise n.4\n",
    "uploaded at [MODULO GitHub repo](https://github.com/mendezVKI/MODULO), and presented in [video 3](https://youtu.be/eG17tRQxqhk). The test case is taken from the article\n",
    "[\"Multi-Scale Proper Orthogonal Decomposition of Complex Fluid Flows\", by M.A. Mendez et al.](https://arxiv.org/abs/1804.09646),\n",
    "and consists of a velocity field of an impinging jet flow measured via a Time-Resolved PIV.\n",
    "\n",
    "Here is a snapshot of the flow field together with the spectra measured in different locations (see the original publication for more details):\n",
    "![Exemplary snapshot of the velocity field from TR-PIV of an impinging jet flow](TR_piv_jet.png)\n",
    "\n"
   ]
  },
  {
   "cell_type": "markdown",
   "metadata": {},
   "source": [
    "\n",
    "## Architecture Overview\n",
    "\n",
    "The architecture of the package is the following:\n",
    "\n",
    "![MODULO block scheme](modulo_blocks.png)\n"
   ]
  },
  {
   "cell_type": "markdown",
   "metadata": {},
   "source": [
    "# MODULO - tutorial\n",
    "\n",
    "To compute POD or mPOD, we will follow these steps:\n",
    "\n",
    "0. Reading data (optional);\n",
    "1. Initialize Data Matrix $\\textbf{D}$;\n",
    "2. Perform Temporal Correlation Matrix $\\textbf{K}$;\n",
    "3. Compute temporal and spatial basis for the decomposition of interest.\n",
    "\n",
    "Moreover, the Memory Saving feature can be used, to limit the memory consumption of the above computations.\n",
    "\n",
    "\n",
    "## Step 0. Reading Data\n",
    "\n",
    "MODULO accepts data in a np.array format. We provide a couple of helper functions to convert .dat/.txt files\n",
    "in such a format. Of course, if you have your numpy array already you can just skip this part.\n"
   ]
  },
  {
   "cell_type": "code",
   "execution_count": 21,
   "metadata": {},
   "outputs": [],
   "source": [
    "import sys\n",
    "sys.path.append('./MODULO/')"
   ]
  },
  {
   "cell_type": "code",
   "execution_count": 22,
   "metadata": {
    "pycharm": {
     "is_executing": true,
     "name": "#%%\n"
    }
   },
   "outputs": [
    {
     "name": "stderr",
     "output_type": "stream",
     "text": [
      "  0%|          | 3/2000 [00:00<01:07, 29.41it/s]"
     ]
    },
    {
     "name": "stdout",
     "output_type": "stream",
     "text": [
      "\n",
      " \n",
      " Importing data... \n",
      " \n",
      "\n"
     ]
    },
    {
     "name": "stderr",
     "output_type": "stream",
     "text": [
      "100%|██████████| 2000/2000 [01:16<00:00, 26.12it/s]\n"
     ]
    }
   ],
   "source": [
    "from MODULO.read_db import ReadData\n",
    "import numpy as np \n",
    "\n",
    "FOLDER = \"./Ex_4_TR_PIV_Jet\"\n",
    "# --- Component fields (N=2 for 2D velocity fields, N=1 for pressure fields)\n",
    "N = 2 \n",
    "# --- Number of mesh points\n",
    "N_S = 6840\n",
    "# --- Header, footer to be skipped during acquisition\n",
    "H = 1\n",
    "F = 0\n",
    "# --- Read one sample snapshot (to get N_S)\n",
    "Name = \"./Ex_4_TR_PIV_jet/Res00001.dat\"\n",
    "Dat = np.genfromtxt(Name, skip_header=H, skip_footer=F)\n",
    "\n",
    "D = ReadData._from_dat(folder='./Ex_4_TR_PIV_jet/', filename='Res%05d', N=2, N_S=2*Dat.shape[0],\n",
    "                  h = H, f = F, c=2)\n"
   ]
  },
  {
   "cell_type": "markdown",
   "metadata": {},
   "source": [
    "Now we have the matrix $D = (n_s, n_t)$ available for further computations.\n",
    "\n",
    "## Step 1. Initialize Data Matrix $D$\n",
    "\n",
    "MODULO provides a method called `DataMatrix` which allows the user to make some useful pre-processing operations:\n",
    "- The mean field can be removed;\n",
    "- If the Memory Saving feature is active, the Data Matrix $D$ is opportunely split in a number of partitions indicated\n",
    "by the user, and then saved on disk.\n",
    "- The data matrix $D$ can be saved on disk (as a `numpy array`).\n",
    "\n",
    "MODULO uses as a default float type `float32`. However, if the user activates the Memory Saving feature, MODULO will ask to you if you want to switch to `float16` as an additional alleviation of the memory usage. \n",
    "\n",
    "You have to be cautious however that this comes with a price: \n"
   ]
  },
  {
   "cell_type": "code",
   "execution_count": 23,
   "metadata": {
    "pycharm": {
     "is_executing": true
    }
   },
   "outputs": [
    {
     "name": "stdout",
     "output_type": "stream",
     "text": [
      "0.12345679\n",
      "0.1235\n"
     ]
    }
   ],
   "source": [
    "a = 0.123456789\n",
    "\n",
    "print(np.float32(a))\n",
    "print(np.float16(a))"
   ]
  },
  {
   "cell_type": "markdown",
   "metadata": {},
   "source": [
    "That being said, we can start initialising MODULO, specifying that we would like to implement the Memory Saving feature with N_PARTITIONS = 11. "
   ]
  },
  {
   "cell_type": "code",
   "execution_count": 24,
   "metadata": {
    "pycharm": {
     "is_executing": true,
     "name": "#%%\n"
    }
   },
   "outputs": [
    {
     "name": "stdout",
     "output_type": "stream",
     "text": [
      "Memory saving feature is active. Do you want to use float16 instead of float32 for your computations? (y/n): y\n",
      "Memory Saving feature is active. Partitioning Data Matrix...\n",
      "\n",
      " Data Matrix has been successfully splitted. \n",
      "\n",
      "Saving the matrix D in ./MODULO_tmp/\n",
      "None\n"
     ]
    }
   ],
   "source": [
    "from MODULO.modulo import MODULO\n",
    "# --- Initialize MODULO object\n",
    "m = MODULO(data=D,\n",
    "           MEMORY_SAVING=True,\n",
    "           N_PARTITIONS=11)\n",
    "# --- Check for D\n",
    "D = m._data_processing()\n",
    "\n",
    "print(D)"
   ]
  },
  {
   "cell_type": "markdown",
   "metadata": {
    "pycharm": {
     "name": "#%% md\n"
    }
   },
   "source": [
    "Where print(D) command shows how, when Memory Saving feature is active, all matrixes are stored on disk only.\n",
    "\n",
    "Finally, when Memory Saving is active, MODULO creates a folder called \"MODULO_tmp\" in your working directory in which every file will be stored. You can choose the directory of such a folder during modulo initialization - i.e.: \n",
    "\n",
    "> m = MODULO(data = mydata, MEMORY_SAVING = bool, FOLDER_OUT = `/your/preferite/folder/`)\n"
   ]
  },
  {
   "cell_type": "markdown",
   "metadata": {
    "pycharm": {
     "name": "#%% md\n"
    }
   },
   "source": [
    "## Step 2. Compute time-correlation matrix $K$\n",
    "\n",
    "As a second step, common for whatever decomposition you are interested in, there is the computation of the temporal correlation matrix. \n",
    "\n",
    "If using the Memory Saving feature, the algorithm of such a computation is slightly different from the classical dot product, as illustrated by D. Ninni (PhD) in his explanatory video: [MODULO Tutorial 8 : Memory Saving option for Limited RAM](https://youtu.be/LclxO1WTuao)."
   ]
  },
  {
   "cell_type": "code",
   "execution_count": null,
   "metadata": {
    "pycharm": {
     "is_executing": true
    }
   },
   "outputs": [],
   "source": [
    "K = m._correlation_matrix()"
   ]
  },
  {
   "cell_type": "markdown",
   "metadata": {},
   "source": [
    "As you can see, MODULO added an extra partition to the `N_PARTITIONS=11` we set. This is because `N_T % N_PARTITIONS !=0`: as a consequence we add an additional partition containing the remaining columns. \n",
    "\n",
    "Again, the correlation matrix is not saved in memory: "
   ]
  },
  {
   "cell_type": "code",
   "execution_count": null,
   "metadata": {
    "pycharm": {
     "is_executing": true
    }
   },
   "outputs": [],
   "source": [
    "print(K)"
   ]
  },
  {
   "cell_type": "markdown",
   "metadata": {},
   "source": [
    "Out of curiosty, we can assess how much memory we are saving using such an approach, using `tracemalloc` package. "
   ]
  },
  {
   "cell_type": "code",
   "execution_count": null,
   "metadata": {
    "pycharm": {
     "is_executing": true
    }
   },
   "outputs": [],
   "source": [
    "D_raw = np.load(\"./MODULO_tmp/data_matrix/database.npz\")['D'] \n",
    "\n",
    "import tracemalloc\n",
    "\n",
    "tracemalloc.start()\n",
    "K_try = np.dot(D_raw.T, D_raw)\n",
    "current, _ = tracemalloc.get_traced_memory()\n",
    "tracemalloc.stop()\n",
    "print(f\"Memory usage without Memory Saving active is {current / 10**6}MB\")\n",
    "\n",
    "\n",
    "tracemalloc.start()\n",
    "K = m._correlation_matrix()\n",
    "current, _ = tracemalloc.get_traced_memory()\n",
    "tracemalloc.stop()\n",
    "print(f\"Memory usage with Memory Saving active is {current / 10**6}MB\")\n"
   ]
  },
  {
   "cell_type": "markdown",
   "metadata": {},
   "source": [
    "The memory saving is of 3 order of magnitude. Not bad!"
   ]
  },
  {
   "cell_type": "markdown",
   "metadata": {},
   "source": [
    "However, whatever method we choose to compute the correlation matrix with, the K matrix should be the same. This can be checked quickly: "
   ]
  },
  {
   "cell_type": "code",
   "execution_count": null,
   "metadata": {
    "pycharm": {
     "is_executing": true
    }
   },
   "outputs": [],
   "source": [
    "K_modulo = np.load(\"./MODULO_tmp/correlation_matrix/k_matrix.npz\")['K']\n",
    "print(np.allclose(K_try, K_modulo))"
   ]
  },
  {
   "cell_type": "markdown",
   "metadata": {},
   "source": [
    "Now we have all we need for perform our decomposition of choice. "
   ]
  },
  {
   "cell_type": "markdown",
   "metadata": {},
   "source": [
    "## Step 3. Compute the decomposition of interest\n",
    "\n",
    "Now we can finally compute our decomposition. Using MODULO this can be done in a black-box way, we simply have to call the proper functions: `compute_mPOD` and `compute_POD`. \n",
    "\n",
    "### Multiscale Proper Orthogonal Decomposition - mPOD\n",
    "\n",
    "For instance, consider a mPOD decomposition. I will refer to the nomenclature present in the paper [\"Multi-Scale Proper Orthogonal Decomposition of Complex Fluid Flows\", by M.A. Mendez et al.](https://arxiv.org/abs/1804.09646). \n",
    "\n",
    "I'm assuming you already red this paper and followed the tutorial [MODULO Tutorial 3 : The Multiscale POD (mPOD)](https://www.youtube.com/watch?v=eG17tRQxqhk&list=PLEJZLD0-4PeKW6Ze984q08bNz28GTntkR&index=3). \n",
    "\n",
    "However, without diving into much detail, the main ingredients of such a decomposition are: \n",
    "- `F_V: np.array` = Frequency splitting vector (Remember that [$F_V$] = [$Hz$]); \n",
    "- `Keep: np.array` = Defines which scale to keep (`1` the scale is kept, `0` scale skipped);\n",
    "- `Nf: np.array` = Kernel size for the FIR filter in each scale; \n",
    "- `boundaries: str` = In order to avoid 'edge effects' if the time correlation matrix is not periodic, several boundary conditions can be used.\n",
    "- `MODE` = As a final step of this algorithm, the orthogonality is imposed via a QR-factorization. This parameter define how to perform such factorization\n"
   ]
  },
  {
   "cell_type": "code",
   "execution_count": null,
   "metadata": {
    "pycharm": {
     "is_executing": true
    }
   },
   "outputs": [],
   "source": [
    "Keep = np.array([1, 1, 1, 1])\n",
    "Nf = np.array([201, 201, 201, 201])\n",
    "# --- Test Case Data:\n",
    "# + Stand off distance nozzle to plate\n",
    "H = 4 / 1000  \n",
    "# + Mean velocity of the jet at the outlet\n",
    "U0 = 6.5  \n",
    "# + Input frequency splitting vector in dimensionless form (Strohual Number)\n",
    "ST_V = np.array([0.1, 0.2, 0.25, 0.4])  \n",
    "# + Frequency Splitting Vector in Hz\n",
    "F_V = ST_V * U0 / H\n",
    "# + Size of the extension for the BC (Check Docs)\n",
    "Ex = 203  # This must be at least as Nf.\n",
    "dt = 1/2000\n",
    "boundaries = 'reflective'\n",
    "MODE = 'reduced'\n",
    "#K = np.load(\"./MODULO_tmp/correlation_matrix/k_matrix.npz\")['K']\n",
    "Phis, Psis, Sigmas = m.compute_mPOD(Nf, Ex, F_V, Keep, boundaries, MODE, dt, False)"
   ]
  },
  {
   "cell_type": "markdown",
   "metadata": {
    "pycharm": {
     "is_executing": true
    }
   },
   "source": [
    "And that's it! Our mPOD decomposition $\\Psi, \\Phi$ and $\\lambda$ are available. The same applies to computing the POD algorithm, using `compute_POD`. "
   ]
  },
  {
   "cell_type": "markdown",
   "metadata": {},
   "source": [
    "Taking over the script of the previous MODULO tutorials, the first six spectra can be plotted:"
   ]
  },
  {
   "cell_type": "code",
   "execution_count": null,
   "metadata": {
    "pycharm": {
     "is_executing": true
    }
   },
   "outputs": [],
   "source": [
    "import os \n",
    "import matplotlib.pyplot as plt \n",
    "from Others import Plot_Field_TEXT\n",
    "\n",
    "# --- Copying data matrix structure from previous tutorials: \n",
    "FOLDER='Ex_4_TR_PIV_Jet'\n",
    "Name=FOLDER+os.sep+'Res%05d'%10+'.dat' # Check it out: print(Name)\n",
    "n_s, Xg, Yg, Vxg, Vyg, X_S,Y_S=Plot_Field_TEXT(Name) \n",
    "nxny=n_s/2\n",
    "n_t = 2000\n",
    "####################### 1. CONSTRUCT THE DATA MATRIX D #################\n",
    "# Initialize the data matrix D\n",
    "D=np.zeros([n_s,n_t])\n",
    "\n",
    "n_y,n_x=Yg.shape; nxny=n_x*n_y; n_s=nxny*2"
   ]
  },
  {
   "cell_type": "code",
   "execution_count": null,
   "metadata": {
    "pycharm": {
     "is_executing": true
    }
   },
   "outputs": [],
   "source": [
    "from Others import Plot_Field\n",
    "%matplotlib inline\n",
    "\n",
    "Fs = 1/dt\n",
    "Phi_M = np.load(\"./MODULO_tmp/mPOD/sorted_phis.npz\")['arr_0']\n",
    "Psi_M = np.load(\"./MODULO_tmp/mPOD/sorted_psis.npz\")['arr_0']\n",
    "\n",
    "for j in range(1,6):\n",
    "    fig, ax3= plt.subplots(figsize=(5,7))   \n",
    "    ax=plt.subplot(2,1,1)\n",
    "    V_X=Phi_M[0:nxny,j-1]\n",
    "    V_Y=Phi_M[nxny::,j-1]\n",
    "    Plot_Field(X_S,Y_S,V_X,V_Y,True,2,0.8)\n",
    "    ax.set_aspect('equal') # Set equal aspect ratio\n",
    "    ax.set_xticks(np.arange(0,40,10))\n",
    "    ax.set_yticks(np.arange(10,30,5))\n",
    "    ax.set_xlim([0,35])\n",
    "    ax.set_ylim([10,29])\n",
    "    ax.invert_yaxis() # Invert Axis for plotting purpose\n",
    "    String_y='$\\phi_{\\mathcal{M}'+str(j)+'}$'\n",
    "    plt.title(String_y,fontsize=18)\n",
    "    plt.tight_layout(pad=1, w_pad=0.5, h_pad=1.0)\n",
    "\n",
    "    ax=plt.subplot(2,1,2)\n",
    "    Signal=Psi_M[:,j-1]\n",
    "    s_h=np.abs((np.fft.fft(Signal-Signal.mean())))\n",
    "    Freqs=np.fft.fftfreq(int(n_t))*Fs\n",
    "    plt.plot(Freqs*(4/1000)/6.5,s_h,'-',linewidth=1.5)\n",
    "    plt.xlim(0,0.38)    \n",
    "    plt.xlabel('$St[-]$',fontsize=18)\n",
    "    String_y='$\\widehat{\\psi}_{\\mathcal{M}'+str(j)+'}$'\n",
    "    plt.ylabel(String_y,fontsize=18)\n",
    "    plt.tight_layout(pad=1, w_pad=0.5, h_pad=1.0) "
   ]
  },
  {
   "cell_type": "code",
   "execution_count": null,
   "metadata": {
    "pycharm": {
     "is_executing": true
    }
   },
   "outputs": [],
   "source": [
    "# --- Computing POD as a comparison \n",
    "\n",
    "Phi_P, Psi_P, Sigma_P = m.compute_POD()"
   ]
  },
  {
   "cell_type": "code",
   "execution_count": null,
   "metadata": {
    "pycharm": {
     "is_executing": true
    }
   },
   "outputs": [],
   "source": [
    "Phi_P_matrix = np.zeros((13680, 2000))\n",
    "\n",
    "for n in range(2000):\n",
    "    Phi_P_matrix[:, n] = np.load(f'./MODULO_tmp/POD/phi_{n + 1}.npz')['phi_p']\n",
    "\n",
    "for j in range(1,6):\n",
    "    fig, ax3= plt.subplots(figsize=(5,7))   \n",
    "    ax=plt.subplot(2,1,1)\n",
    "    V_X=Phi_P_matrix[0:nxny,j-1]\n",
    "    V_Y=Phi_P_matrix[nxny::,j-1]\n",
    "    Plot_Field(X_S,Y_S,V_X,V_Y,True,2,0.8)\n",
    "    ax.set_aspect('equal') # Set equal aspect ratio\n",
    "    ax.set_xticks(np.arange(0,40,10))\n",
    "    ax.set_yticks(np.arange(10,30,5))\n",
    "    ax.set_xlim([0,35])\n",
    "    ax.set_ylim([10,29])\n",
    "    ax.invert_yaxis() # Invert Axis for plotting purpose\n",
    "    String_y='$\\phi_{\\mathcal{P}'+str(j)+'}$'\n",
    "    plt.title(String_y,fontsize=18)\n",
    "    plt.tight_layout(pad=1, w_pad=0.5, h_pad=1.0)\n",
    "\n",
    "    ax=plt.subplot(2,1,2)\n",
    "    Signal=Psi_P[:,j-1]\n",
    "    s_h=np.abs((np.fft.fft(Signal-Signal.mean())))\n",
    "    Freqs=np.fft.fftfreq(int(n_t))*Fs\n",
    "    plt.plot(Freqs*(4/1000)/6.5,s_h,'-',linewidth=1.5)\n",
    "    plt.xlim(0,0.38)    \n",
    "    plt.xlabel('$St[-]$',fontsize=18)\n",
    "    String_y='$\\widehat{\\psi}_{\\mathcal{P}'+str(j)+'}$'\n",
    "    plt.ylabel(String_y,fontsize=18)\n",
    "    plt.tight_layout(pad=1, w_pad=0.5, h_pad=1.0) "
   ]
  },
  {
   "cell_type": "markdown",
   "metadata": {},
   "source": [
    "# Towards customization: accessing `MODULO` methods\n",
    "\n",
    "We have decomposed our dataset in a black-box manner - i.e.: without caring of the inner mechanism that is going on and, more interestingly, neglecting intermediate results. \n",
    "\n",
    "You can customize your decomposition, accessing `MODULO.methods()`: "
   ]
  },
  {
   "cell_type": "code",
   "execution_count": null,
   "metadata": {
    "pycharm": {
     "is_executing": true
    }
   },
   "outputs": [],
   "source": [
    "def my_decomposition_algo(example): \n",
    "    \"\"\"\n",
    "    An example of a customized decomposition algorithm\n",
    "    \"\"\"\n",
    "    PSIs = another_temporal_decomposition_I_want_to_test(args)\n",
    "    Phis, Psis, Sigmas = m.spatial_basis_mPOD(PSIs, args)\n",
    "    return Phis, Psis, Sigmas"
   ]
  },
  {
   "cell_type": "markdown",
   "metadata": {},
   "source": [
    "# `MODULO`: What's next?\n",
    "\n",
    "- Proper documentation; \n",
    "- What about tensors? Explore `tensorflow` capabilities in matricial applications;\n",
    "- ...? \n",
    "\n"
   ]
  },
  {
   "cell_type": "markdown",
   "metadata": {},
   "source": [
    "# Farewell\n",
    "\n",
    "This closes this brief overview of `MODULO` Python package capabilities. \n",
    "\n",
    "For any suggestion, bug or whatever, feel free to drop by the [MODULO GitHub repository](https://github.com/mendezVKI/MODULO) and open an issue. \n",
    "\n",
    "See you soon, \n",
    "Lorenzo"
   ]
  },
  {
   "cell_type": "code",
   "execution_count": null,
   "metadata": {
    "pycharm": {
     "is_executing": true
    }
   },
   "outputs": [],
   "source": []
  }
 ],
 "metadata": {
  "kernelspec": {
   "display_name": "Python 3",
   "language": "python",
   "name": "python3"
  },
  "language_info": {
   "codemirror_mode": {
    "name": "ipython",
    "version": 3
   },
   "file_extension": ".py",
   "mimetype": "text/x-python",
   "name": "python",
   "nbconvert_exporter": "python",
   "pygments_lexer": "ipython3",
   "version": "3.6.2"
  }
 },
 "nbformat": 4,
 "nbformat_minor": 1
}